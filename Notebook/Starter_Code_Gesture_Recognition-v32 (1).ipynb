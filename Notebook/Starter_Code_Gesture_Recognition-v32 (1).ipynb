{
 "cells": [
  {
   "cell_type": "markdown",
   "metadata": {
    "id": "0JCbOvexuyUq"
   },
   "source": [
    "# Gesture Recognition\n",
    "In this group project, you are going to build a 3D Conv model that will be able to predict the 5 gestures correctly. Please import the following libraries to get started. Once you have completed the code you can download the notebook for making a submission."
   ]
  },
  {
   "cell_type": "code",
   "execution_count": 1,
   "metadata": {
    "id": "8xHU-jAiuyUv"
   },
   "outputs": [],
   "source": [
    "import numpy as np\n",
    "import os\n",
    "from imageio import imread\n",
    "from skimage.transform import resize\n",
    "import datetime\n",
    "import os"
   ]
  },
  {
   "cell_type": "markdown",
   "metadata": {
    "id": "4bmNj1bYuyUx"
   },
   "source": [
    "We set the random seed so that the results don't vary drastically."
   ]
  },
  {
   "cell_type": "code",
   "execution_count": 2,
   "metadata": {
    "id": "vq6KDKBTuyUy"
   },
   "outputs": [],
   "source": [
    "np.random.seed(30)\n",
    "import random as rn\n",
    "rn.seed(30)\n",
    "from tensorflow import keras\n",
    "import tensorflow as tf\n",
    "tf.random.set_seed(30)"
   ]
  },
  {
   "cell_type": "markdown",
   "metadata": {
    "id": "zPpwwiGwuyUy"
   },
   "source": [
    "In this block, you read the folder names for training and validation. You also set the `batch_size` here. Note that you set the batch size in such a way that you are able to use the GPU in full capacity. You keep increasing the batch size until the machine throws an error."
   ]
  },
  {
   "cell_type": "markdown",
   "metadata": {
    "id": "-uNdzwz0uyUz"
   },
   "source": [
    "**data path: /home/datasets/Project_data**"
   ]
  },
  {
   "cell_type": "code",
   "execution_count": 124,
   "metadata": {
    "colab": {
     "base_uri": "https://localhost:8080/"
    },
    "executionInfo": {
     "elapsed": 20815,
     "status": "ok",
     "timestamp": 1624469871674,
     "user": {
      "displayName": "Kartik Chandran Pillai",
      "photoUrl": "https://lh3.googleusercontent.com/a-/AOh14Gigo2fMh43B9f2IksTaOj4nLIQRxje0fr2PoQPZcw=s64",
      "userId": "17972285254005898711"
     },
     "user_tz": -330
    },
    "id": "6itIUcgpxVSS",
    "outputId": "ad2b12fb-f8ea-451b-c9b4-adfbf87c58cd"
   },
   "outputs": [],
   "source": [
    "# from google.colab import drive\n",
    "# drive.mount('/content/drive')"
   ]
  },
  {
   "cell_type": "code",
   "execution_count": 125,
   "metadata": {
    "colab": {
     "base_uri": "https://localhost:8080/"
    },
    "executionInfo": {
     "elapsed": 775,
     "status": "ok",
     "timestamp": 1624469876056,
     "user": {
      "displayName": "Kartik Chandran Pillai",
      "photoUrl": "https://lh3.googleusercontent.com/a-/AOh14Gigo2fMh43B9f2IksTaOj4nLIQRxje0fr2PoQPZcw=s64",
      "userId": "17972285254005898711"
     },
     "user_tz": -330
    },
    "id": "kYaKky_-xdGk",
    "outputId": "cb662fac-a358-41b0-abbf-7db6a8b7428c"
   },
   "outputs": [],
   "source": [
    "# %cd /content/drive/My\\ Drive/"
   ]
  },
  {
   "cell_type": "code",
   "execution_count": 3,
   "metadata": {
    "id": "aw8J8zJYuyU0"
   },
   "outputs": [],
   "source": [
    "train_doc = np.random.permutation(open('datasets/Project_data/train.csv').readlines())\n",
    "val_doc = np.random.permutation(open('datasets/Project_data/val.csv').readlines())\n",
    "batch_size = 32 #experiment with the batch size"
   ]
  },
  {
   "cell_type": "markdown",
   "metadata": {
    "id": "S-JyQitMuyU1"
   },
   "source": [
    "## Generator\n",
    "This is one of the most important part of the code. The overall structure of the generator has been given. In the generator, you are going to preprocess the images as you have images of 2 different dimensions as well as create a batch of video frames. You have to experiment with `img_idx`, `y`,`z` and normalization such that you get high accuracy."
   ]
  },
  {
   "cell_type": "markdown",
   "metadata": {
    "id": "cUF8f_dWuyU2"
   },
   "source": [
    "img_idx = [0,2,5,8,11,14,17,20,23,26,29]\n",
    "batch_data = np.zeros((batch_size,len(img_idx),180,180,3))\n",
    "batch_data.shape"
   ]
  },
  {
   "cell_type": "code",
   "execution_count": 4,
   "metadata": {
    "id": "3nKy-oZ1uyU2"
   },
   "outputs": [],
   "source": [
    "def generator(source_path, folder_list, batch_size):\n",
    "    print( 'Source path = ', source_path, '; batch size =', batch_size)\n",
    "    #img_idx = [0,1,2,3,4,5,6,7,8,9,10,11,12,13,14,15,16,17,18,19,20,21,22,23,24,25,26,27,28,29] #create a list of image numbers you want to use for a particular video\n",
    "    img_idx = np.arange(0, 30).tolist()\n",
    "    while True:\n",
    "        t = np.random.permutation(folder_list)\n",
    "        num_batches = len(folder_list)//batch_size# calculate the number of batches\n",
    "        for batch in range(num_batches): # we iterate over the number of batches\n",
    "            batch_data = np.zeros((batch_size,len(img_idx),100,100,3)) # x is the number of images you use for each video, (y,z) is the final size of the input images and 3 is the number of channels RGB\n",
    "            batch_labels = np.zeros((batch_size,5)) # batch_labels is the one hot representation of the output\n",
    "            for folder in range(batch_size): # iterate over the batch_size\n",
    "                imgs = os.listdir(source_path+'/'+ t[folder + (batch*batch_size)].split(';')[0]) # read all the images in the folder\n",
    "                for idx,item in enumerate(img_idx): #  Iterate iver the frames/images of a folder to read them in\n",
    "                    image = imread(source_path+'/'+ t[folder + (batch*batch_size)].strip().split(';')[0]+'/'+imgs[item]).astype(np.float32)\n",
    "                    \n",
    "                    #crop the images and resize them. Note that the images are of 2 different shape \n",
    "                    #and the conv3D will throw error if the inputs in a batch have different shapes\n",
    "                    image = resize(image,(100,100))\n",
    "                    image = image/255.0\n",
    "                    \n",
    "                    batch_data[folder,idx,:,:,0] = (image[:,:,0])#normalise and feed in the image\n",
    "                    batch_data[folder,idx,:,:,1] = (image[:,:,1])#normalise and feed in the image\n",
    "                    batch_data[folder,idx,:,:,2] = (image[:,:,2])#normalise and feed in the image\n",
    "                    \n",
    "                batch_labels[folder, int(t[folder + (batch*batch_size)].strip().split(';')[2])] = 1\n",
    "            yield batch_data, batch_labels #you yield the batch_data and the batch_labels, remember what does yield do\n",
    "\n",
    "        \n",
    "        # write the code for the remaining data points which are left after full batches\n",
    "        if (len(folder_list) != batch_size*num_batches):\n",
    "            print(\"Batch: \",num_batches+1,\"Index:\", batch_size)\n",
    "            batch_size = len(folder_list) - (batch_size*num_batches)\n",
    "            rem_batch_data = np.zeros((batch_size,len(img_idx),100,100,3)) # x is the number of images you use for each video, (y,z) is the final size of the input images and 3 is the number of channels RGB\n",
    "            rem_batch_labels = np.zeros((batch_size,5)) # batch_labels is the one hot representation of the output\n",
    "            for folder in range(batch_size): # iterate over the batch_size\n",
    "                imgs = os.listdir(source_path+'/'+ t[folder + (batch*batch_size)].split(';')[0]) # read all the images in the folder\n",
    "                for idx,item in enumerate(img_idx): #  Iterate iver the frames/images of a folder to read them in\n",
    "                    image = imread(source_path+'/'+ t[folder + (batch*batch_size)].strip().split(';')[0]+'/'+imgs[item]).astype(np.float32)\n",
    "\n",
    "                    #crop the images and resize them. Note that the images are of 2 different shape \n",
    "                    #and the conv3D will throw error if the inputs in a batch have different shapes\n",
    "                    image = resize(image, (100,100))\n",
    "                    image = image/255.0\n",
    "                    \n",
    "                    rem_batch_data[folder,idx,:,:,0] = (image[:,:,0])#normalise and feed in the image\n",
    "                    rem_batch_data[folder,idx,:,:,1] = (image[:,:,1])#normalise and feed in the image\n",
    "                    rem_batch_data[folder,idx,:,:,2] = (image[:,:,2])#normalise and feed in the image\n",
    "                    \n",
    "                rem_batch_labels[folder, int(t[folder + (batch*batch_size)].strip().split(';')[2])] = 1\n",
    "            yield rem_batch_data, rem_batch_labels\n"
   ]
  },
  {
   "cell_type": "markdown",
   "metadata": {
    "id": "ZFpTQPCouyU5"
   },
   "source": [
    "Note here that a video is represented above in the generator as (number of images, height, width, number of channels). Take this into consideration while creating the model architecture."
   ]
  },
  {
   "cell_type": "code",
   "execution_count": 5,
   "metadata": {
    "colab": {
     "base_uri": "https://localhost:8080/"
    },
    "executionInfo": {
     "elapsed": 338,
     "status": "ok",
     "timestamp": 1624469909594,
     "user": {
      "displayName": "Kartik Chandran Pillai",
      "photoUrl": "https://lh3.googleusercontent.com/a-/AOh14Gigo2fMh43B9f2IksTaOj4nLIQRxje0fr2PoQPZcw=s64",
      "userId": "17972285254005898711"
     },
     "user_tz": -330
    },
    "id": "Ee81fluRuyU5",
    "outputId": "811918cb-67c5-4905-9235-123436d2472e"
   },
   "outputs": [
    {
     "name": "stdout",
     "output_type": "stream",
     "text": [
      "# training sequences = 663\n",
      "# validation sequences = 100\n",
      "# epochs = 20\n"
     ]
    }
   ],
   "source": [
    "curr_dt_time = datetime.datetime.now()\n",
    "train_path = 'datasets/Project_data/train'\n",
    "val_path = 'datasets/Project_data/val'\n",
    "num_train_sequences = len(train_doc)\n",
    "print('# training sequences =', num_train_sequences)\n",
    "num_val_sequences = len(val_doc)\n",
    "print('# validation sequences =', num_val_sequences)\n",
    "num_epochs = 20# choose the number of epochs\n",
    "print ('# epochs =', num_epochs)"
   ]
  },
  {
   "cell_type": "markdown",
   "metadata": {
    "id": "dJ2L078yuyU7"
   },
   "source": [
    "## Model\n",
    "Here you make the model using different functionalities that Keras provides. Remember to use `Conv3D` and `MaxPooling3D` and not `Conv2D` and `Maxpooling2D` for a 3D convolution model. You would want to use `TimeDistributed` while building a Conv2D + RNN model. Also remember that the last layer is the softmax. Design the network in such a way that the model is able to give good accuracy on the least number of parameters so that it can fit in the memory of the webcam."
   ]
  },
  {
   "cell_type": "code",
   "execution_count": 14,
   "metadata": {
    "id": "ehO24pU_uyU7"
   },
   "outputs": [],
   "source": [
    "from tensorflow.keras.models import Sequential\n",
    "from tensorflow.keras.layers import Dense, GRU, Dropout, Flatten, BatchNormalization, Activation, Conv3D, MaxPooling3D\n",
    "from tensorflow.keras.callbacks import ModelCheckpoint, ReduceLROnPlateau\n",
    "from tensorflow.keras import optimizers\n",
    "from tensorflow.keras import layers\n",
    "\n",
    "#write your model here\n",
    "model = Sequential([\n",
    "    layers.Conv3D(16, 3, input_shape=(30,100,100,3),padding='same', activation='relu'),\n",
    "    layers.MaxPooling3D(),\n",
    "    layers.Conv3D(32, 3, padding='same', activation='relu'),\n",
    "    layers.MaxPooling3D(),\n",
    "    layers.Conv3D(64, 3, padding='same', activation='relu'),\n",
    "    layers.MaxPooling3D(),\n",
    "    layers.Flatten(),\n",
    "    layers.Dense(1000, activation='relu'),\n",
    "    layers.Dropout(0.5),\n",
    "    layers.Dense(5, activation='relu'),\n",
    "    layers.Activation('softmax')\n",
    "])  "
   ]
  },
  {
   "cell_type": "code",
   "execution_count": 27,
   "metadata": {},
   "outputs": [],
   "source": [
    "def get_model(width, height, depth):\n",
    "  \"\"\"\n",
    "  Build a 3D convolutional neural network\n",
    "  \"\"\"\n",
    "  inputs = tf.keras.Input((width, height, depth, 3))\n",
    "\n",
    "  x = layers.Conv3D(filters=16, kernel_size=3, activation=\"relu\")(inputs)\n",
    "  x = layers.MaxPool3D(pool_size=2, padding='same')(x)\n",
    "  x = layers.BatchNormalization()(x)\n",
    "\n",
    "  x = layers.Conv3D(filters=32, kernel_size=3, activation=\"relu\")(x)\n",
    "  x = layers.MaxPool3D(pool_size=2)(x)\n",
    "  x = layers.BatchNormalization()(x)\n",
    "\n",
    "  x = layers.GlobalAveragePooling3D()(x)\n",
    "  x = layers.Dense(units=512, activation=\"relu\")(x)\n",
    "\n",
    "  x = layers.Dropout(0.3)(x)\n",
    "\n",
    "  outputs = layers.Dense(units=5, activation='softmax')(x)\n",
    "\n",
    "  model= keras.Model(inputs, outputs, name=\"3DCNN\")\n",
    "  return model"
   ]
  },
  {
   "cell_type": "code",
   "execution_count": 28,
   "metadata": {},
   "outputs": [
    {
     "name": "stdout",
     "output_type": "stream",
     "text": [
      "Model: \"3DCNN\"\n",
      "_________________________________________________________________\n",
      "Layer (type)                 Output Shape              Param #   \n",
      "=================================================================\n",
      "input_9 (InputLayer)         [(None, 100, 100, 30, 3)] 0         \n",
      "_________________________________________________________________\n",
      "conv3d_21 (Conv3D)           (None, 98, 98, 28, 16)    1312      \n",
      "_________________________________________________________________\n",
      "max_pooling3d_21 (MaxPooling (None, 49, 49, 14, 16)    0         \n",
      "_________________________________________________________________\n",
      "batch_normalization_18 (Batc (None, 49, 49, 14, 16)    64        \n",
      "_________________________________________________________________\n",
      "conv3d_22 (Conv3D)           (None, 47, 47, 12, 32)    13856     \n",
      "_________________________________________________________________\n",
      "max_pooling3d_22 (MaxPooling (None, 23, 23, 6, 32)     0         \n",
      "_________________________________________________________________\n",
      "batch_normalization_19 (Batc (None, 23, 23, 6, 32)     128       \n",
      "_________________________________________________________________\n",
      "global_average_pooling3d_3 ( (None, 32)                0         \n",
      "_________________________________________________________________\n",
      "dense_13 (Dense)             (None, 512)               16896     \n",
      "_________________________________________________________________\n",
      "dropout_5 (Dropout)          (None, 512)               0         \n",
      "_________________________________________________________________\n",
      "dense_14 (Dense)             (None, 5)                 2565      \n",
      "=================================================================\n",
      "Total params: 34,821\n",
      "Trainable params: 34,725\n",
      "Non-trainable params: 96\n",
      "_________________________________________________________________\n"
     ]
    }
   ],
   "source": [
    "#Build the model\n",
    "model = get_model(width=100, height=100, depth=30)\n",
    "model.summary()"
   ]
  },
  {
   "cell_type": "code",
   "execution_count": 29,
   "metadata": {},
   "outputs": [],
   "source": [
    "optimiser = optimizers.Adam(learning_rate=0.01) #write your optimizer\n",
    "model.compile(optimizer=optimiser, loss='categorical_crossentropy', metrics=['categorical_accuracy'])"
   ]
  },
  {
   "cell_type": "code",
   "execution_count": 30,
   "metadata": {},
   "outputs": [
    {
     "name": "stdout",
     "output_type": "stream",
     "text": [
      "Model: \"3DCNN\"\n",
      "_________________________________________________________________\n",
      "Layer (type)                 Output Shape              Param #   \n",
      "=================================================================\n",
      "input_9 (InputLayer)         [(None, 100, 100, 30, 3)] 0         \n",
      "_________________________________________________________________\n",
      "conv3d_21 (Conv3D)           (None, 98, 98, 28, 16)    1312      \n",
      "_________________________________________________________________\n",
      "max_pooling3d_21 (MaxPooling (None, 49, 49, 14, 16)    0         \n",
      "_________________________________________________________________\n",
      "batch_normalization_18 (Batc (None, 49, 49, 14, 16)    64        \n",
      "_________________________________________________________________\n",
      "conv3d_22 (Conv3D)           (None, 47, 47, 12, 32)    13856     \n",
      "_________________________________________________________________\n",
      "max_pooling3d_22 (MaxPooling (None, 23, 23, 6, 32)     0         \n",
      "_________________________________________________________________\n",
      "batch_normalization_19 (Batc (None, 23, 23, 6, 32)     128       \n",
      "_________________________________________________________________\n",
      "global_average_pooling3d_3 ( (None, 32)                0         \n",
      "_________________________________________________________________\n",
      "dense_13 (Dense)             (None, 512)               16896     \n",
      "_________________________________________________________________\n",
      "dropout_5 (Dropout)          (None, 512)               0         \n",
      "_________________________________________________________________\n",
      "dense_14 (Dense)             (None, 5)                 2565      \n",
      "=================================================================\n",
      "Total params: 34,821\n",
      "Trainable params: 34,725\n",
      "Non-trainable params: 96\n",
      "_________________________________________________________________\n",
      "None\n"
     ]
    }
   ],
   "source": [
    "print(model.summary())"
   ]
  },
  {
   "cell_type": "markdown",
   "metadata": {
    "id": "WVcqOKXXuyU7"
   },
   "source": [
    "Now that you have written the model, the next step is to `compile` the model. When you print the `summary` of the model, you'll see the total number of parameters you have to train."
   ]
  },
  {
   "cell_type": "code",
   "execution_count": 15,
   "metadata": {
    "colab": {
     "base_uri": "https://localhost:8080/"
    },
    "executionInfo": {
     "elapsed": 336,
     "status": "ok",
     "timestamp": 1624469946473,
     "user": {
      "displayName": "Kartik Chandran Pillai",
      "photoUrl": "https://lh3.googleusercontent.com/a-/AOh14Gigo2fMh43B9f2IksTaOj4nLIQRxje0fr2PoQPZcw=s64",
      "userId": "17972285254005898711"
     },
     "user_tz": -330
    },
    "id": "BeKJX1YouyU7",
    "outputId": "dc5fa14d-8544-473e-cbd6-5db8a59e9d07",
    "scrolled": true
   },
   "outputs": [
    {
     "name": "stdout",
     "output_type": "stream",
     "text": [
      "Model: \"sequential\"\n",
      "_________________________________________________________________\n",
      "Layer (type)                 Output Shape              Param #   \n",
      "=================================================================\n",
      "conv3d_4 (Conv3D)            (None, 30, 100, 100, 16)  1312      \n",
      "_________________________________________________________________\n",
      "max_pooling3d_4 (MaxPooling3 (None, 15, 50, 50, 16)    0         \n",
      "_________________________________________________________________\n",
      "conv3d_5 (Conv3D)            (None, 15, 50, 50, 32)    13856     \n",
      "_________________________________________________________________\n",
      "max_pooling3d_5 (MaxPooling3 (None, 7, 25, 25, 32)     0         \n",
      "_________________________________________________________________\n",
      "conv3d_6 (Conv3D)            (None, 7, 25, 25, 64)     55360     \n",
      "_________________________________________________________________\n",
      "max_pooling3d_6 (MaxPooling3 (None, 3, 12, 12, 64)     0         \n",
      "_________________________________________________________________\n",
      "flatten (Flatten)            (None, 27648)             0         \n",
      "_________________________________________________________________\n",
      "dense_4 (Dense)              (None, 1000)              27649000  \n",
      "_________________________________________________________________\n",
      "dropout_2 (Dropout)          (None, 1000)              0         \n",
      "_________________________________________________________________\n",
      "dense_5 (Dense)              (None, 5)                 5005      \n",
      "_________________________________________________________________\n",
      "activation (Activation)      (None, 5)                 0         \n",
      "=================================================================\n",
      "Total params: 27,724,533\n",
      "Trainable params: 27,724,533\n",
      "Non-trainable params: 0\n",
      "_________________________________________________________________\n",
      "None\n"
     ]
    }
   ],
   "source": [
    "optimiser = optimizers.Adam(learning_rate=0.01) #write your optimizer\n",
    "model.compile(optimizer=optimiser, loss='categorical_crossentropy', metrics=['categorical_accuracy'])\n",
    "print (model.summary())"
   ]
  },
  {
   "cell_type": "markdown",
   "metadata": {
    "id": "v042H3xOuyU8"
   },
   "source": [
    "Let us create the `train_generator` and the `val_generator` which will be used in `.fit_generator`."
   ]
  },
  {
   "cell_type": "code",
   "execution_count": 31,
   "metadata": {
    "id": "kKKjanL0uyU8"
   },
   "outputs": [],
   "source": [
    "train_generator = generator(train_path, train_doc, batch_size)\n",
    "val_generator = generator(val_path, val_doc, batch_size)"
   ]
  },
  {
   "cell_type": "code",
   "execution_count": 32,
   "metadata": {
    "id": "MlvUinr5uyU8"
   },
   "outputs": [],
   "source": [
    "model_name = 'model_init' + '_' + str(curr_dt_time).replace(' ','').replace(':','_') + '/'\n",
    "    \n",
    "if not os.path.exists(model_name):\n",
    "    os.mkdir(model_name)\n",
    "        \n",
    "filepath = model_name + 'model-{epoch:05d}-{loss:.5f}-{categorical_accuracy:.5f}-{val_loss:.5f}-{val_categorical_accuracy:.5f}.h5'\n",
    "\n",
    "checkpoint = ModelCheckpoint(filepath=filepath, monitor='val_loss', verbose=1, save_best_only=False, save_weights_only=False, mode='auto', save_freq='epoch')\n",
    "\n",
    "LR = tf.keras.callbacks.ReduceLROnPlateau(\n",
    "    monitor='val_loss', factor=0.5, patience=3,mode='auto', verbose=1)# write the REducelronplateau code here\n",
    "callbacks_list = [checkpoint, LR]"
   ]
  },
  {
   "cell_type": "markdown",
   "metadata": {
    "id": "yAclr5iuuyU8"
   },
   "source": [
    "The `steps_per_epoch` and `validation_steps` are used by `fit` method to decide the number of next() calls it need to make."
   ]
  },
  {
   "cell_type": "code",
   "execution_count": 33,
   "metadata": {
    "id": "qLz5jGB1uyU9"
   },
   "outputs": [],
   "source": [
    "if (num_train_sequences%batch_size) == 0:\n",
    "    steps_per_epoch = int(num_train_sequences/batch_size)\n",
    "else:\n",
    "    steps_per_epoch = (num_train_sequences//batch_size) + 1\n",
    "\n",
    "if (num_val_sequences%batch_size) == 0:\n",
    "    validation_steps = int(num_val_sequences/batch_size)\n",
    "else:\n",
    "    validation_steps = (num_val_sequences//batch_size) + 1"
   ]
  },
  {
   "cell_type": "markdown",
   "metadata": {
    "id": "7iWEGU7luyU9"
   },
   "source": [
    "Let us now fit the model. This will start training the model and with the help of the checkpoints, you'll be able to save the model at the end of each epoch."
   ]
  },
  {
   "cell_type": "code",
   "execution_count": null,
   "metadata": {
    "colab": {
     "base_uri": "https://localhost:8080/"
    },
    "id": "zDZbEWTIuyU9",
    "outputId": "c6ac3e25-6293-4f9c-feb3-7a36dfa3fcff"
   },
   "outputs": [
    {
     "name": "stdout",
     "output_type": "stream",
     "text": [
      "Source path =  datasets/Project_data/train ; batch size = 32\n",
      "Epoch 1/20\n",
      "19/21 [==========================>...] - ETA: 10s - loss: 1.2710 - categorical_accuracy: 0.4441Batch:  21 Index: 32\n",
      "21/21 [==============================] - ETA: 0s - loss: 1.2325 - categorical_accuracy: 0.4615Source path =  datasets/Project_data/val ; batch size = 32\n",
      "Batch:  4 Index: 32\n",
      "\n",
      "Epoch 00001: saving model to model_init_2021-06-2602_22_50.878653/model-00001-1.23250-0.46154-29.85725-0.22000.h5\n",
      "21/21 [==============================] - 134s 6s/step - loss: 1.2325 - categorical_accuracy: 0.4615 - val_loss: 29.8573 - val_categorical_accuracy: 0.2200\n",
      "Epoch 2/20\n",
      "21/21 [==============================] - ETA: 0s - loss: 1.0261 - categorical_accuracy: 0.5528\n",
      "Epoch 00002: saving model to model_init_2021-06-2602_22_50.878653/model-00002-1.02609-0.55280-13.77014-0.25000.h5\n",
      "21/21 [==============================] - 88s 4s/step - loss: 1.0261 - categorical_accuracy: 0.5528 - val_loss: 13.7701 - val_categorical_accuracy: 0.2500\n",
      "Epoch 3/20\n",
      " 6/21 [=======>......................] - ETA: 52s - loss: 1.0466 - categorical_accuracy: 0.5725Batch:  29 Index: 23\n",
      "21/21 [==============================] - ETA: 0s - loss: 1.0544 - categorical_accuracy: 0.5644\n",
      "Epoch 00003: saving model to model_init_2021-06-2602_22_50.878653/model-00003-1.05443-0.56440-12.62462-0.12500.h5\n",
      "21/21 [==============================] - 75s 4s/step - loss: 1.0544 - categorical_accuracy: 0.5644 - val_loss: 12.6246 - val_categorical_accuracy: 0.1250\n",
      "Epoch 4/20\n",
      "20/21 [===========================>..] - ETA: 3s - loss: 0.9409 - categorical_accuracy: 0.5605Batch:  35 Index: 19\n",
      "21/21 [==============================] - ETA: 0s - loss: 0.9363 - categorical_accuracy: 0.5664\n",
      "Epoch 00004: saving model to model_init_2021-06-2602_22_50.878653/model-00004-0.93626-0.56642-4.83452-0.18750.h5\n",
      "21/21 [==============================] - 72s 3s/step - loss: 0.9363 - categorical_accuracy: 0.5664 - val_loss: 4.8345 - val_categorical_accuracy: 0.1875\n",
      "Epoch 5/20\n",
      "21/21 [==============================] - ETA: 0s - loss: 0.8594 - categorical_accuracy: 0.6471\n",
      "Epoch 00005: saving model to model_init_2021-06-2602_22_50.878653/model-00005-0.85936-0.64706-2.71906-0.25000.h5\n",
      "21/21 [==============================] - 67s 3s/step - loss: 0.8594 - categorical_accuracy: 0.6471 - val_loss: 2.7191 - val_categorical_accuracy: 0.2500\n",
      "Epoch 6/20\n",
      "21/21 [==============================] - ETA: 0s - loss: 0.8290 - categorical_accuracy: 0.6527\n",
      "Epoch 00006: saving model to model_init_2021-06-2602_22_50.878653/model-00006-0.82904-0.65266-4.74638-0.12500.h5\n",
      "21/21 [==============================] - 62s 3s/step - loss: 0.8290 - categorical_accuracy: 0.6527 - val_loss: 4.7464 - val_categorical_accuracy: 0.1250\n",
      "Epoch 7/20\n",
      "21/21 [==============================] - ETA: 0s - loss: 0.7916 - categorical_accuracy: 0.6695\n",
      "Epoch 00007: saving model to model_init_2021-06-2602_22_50.878653/model-00007-0.79159-0.66947-1.44106-0.37500.h5\n",
      "21/21 [==============================] - 66s 3s/step - loss: 0.7916 - categorical_accuracy: 0.6695 - val_loss: 1.4411 - val_categorical_accuracy: 0.3750\n",
      "Epoch 8/20\n",
      "21/21 [==============================] - ETA: 0s - loss: 0.7327 - categorical_accuracy: 0.7031\n",
      "Epoch 00008: saving model to model_init_2021-06-2602_22_50.878653/model-00008-0.73267-0.70308-4.26170-0.12500.h5\n",
      "21/21 [==============================] - 62s 3s/step - loss: 0.7327 - categorical_accuracy: 0.7031 - val_loss: 4.2617 - val_categorical_accuracy: 0.1250\n",
      "Epoch 9/20\n",
      "21/21 [==============================] - ETA: 0s - loss: 0.5911 - categorical_accuracy: 0.7115\n",
      "Epoch 00009: saving model to model_init_2021-06-2602_22_50.878653/model-00009-0.59110-0.71148-1.40908-0.56250.h5\n",
      "21/21 [==============================] - 68s 3s/step - loss: 0.5911 - categorical_accuracy: 0.7115 - val_loss: 1.4091 - val_categorical_accuracy: 0.5625\n",
      "Epoch 10/20\n",
      "21/21 [==============================] - ETA: 0s - loss: 0.6088 - categorical_accuracy: 0.7423\n",
      "Epoch 00010: saving model to model_init_2021-06-2602_22_50.878653/model-00010-0.60878-0.74230-2.80980-0.31250.h5\n",
      "21/21 [==============================] - 64s 3s/step - loss: 0.6088 - categorical_accuracy: 0.7423 - val_loss: 2.8098 - val_categorical_accuracy: 0.3125\n",
      "Epoch 11/20\n",
      "21/21 [==============================] - ETA: 0s - loss: 0.6536 - categorical_accuracy: 0.7451\n",
      "Epoch 00011: saving model to model_init_2021-06-2602_22_50.878653/model-00011-0.65364-0.74510-1.40544-0.50000.h5\n",
      "21/21 [==============================] - 66s 3s/step - loss: 0.6536 - categorical_accuracy: 0.7451 - val_loss: 1.4054 - val_categorical_accuracy: 0.5000\n",
      "Epoch 12/20\n",
      "21/21 [==============================] - ETA: 0s - loss: 0.6157 - categorical_accuracy: 0.7479\n",
      "Epoch 00012: saving model to model_init_2021-06-2602_22_50.878653/model-00012-0.61573-0.74790-6.26724-0.18750.h5\n",
      "21/21 [==============================] - 65s 3s/step - loss: 0.6157 - categorical_accuracy: 0.7479 - val_loss: 6.2672 - val_categorical_accuracy: 0.1875\n",
      "Epoch 13/20\n",
      "21/21 [==============================] - ETA: 0s - loss: 0.6686 - categorical_accuracy: 0.7311\n",
      "Epoch 00013: saving model to model_init_2021-06-2602_22_50.878653/model-00013-0.66862-0.73109-2.36545-0.37500.h5\n",
      "21/21 [==============================] - 67s 3s/step - loss: 0.6686 - categorical_accuracy: 0.7311 - val_loss: 2.3654 - val_categorical_accuracy: 0.3750\n",
      "Epoch 14/20\n",
      "21/21 [==============================] - ETA: 0s - loss: 0.6029 - categorical_accuracy: 0.7647\n",
      "Epoch 00014: saving model to model_init_2021-06-2602_22_50.878653/model-00014-0.60295-0.76471-1.56445-0.43750.h5\n",
      "\n",
      "Epoch 00014: ReduceLROnPlateau reducing learning rate to 0.004999999888241291.\n",
      "21/21 [==============================] - 70s 3s/step - loss: 0.6029 - categorical_accuracy: 0.7647 - val_loss: 1.5644 - val_categorical_accuracy: 0.4375\n",
      "Epoch 15/20\n",
      "21/21 [==============================] - ETA: 0s - loss: 0.5354 - categorical_accuracy: 0.7843\n",
      "Epoch 00015: saving model to model_init_2021-06-2602_22_50.878653/model-00015-0.53536-0.78431-1.84155-0.37500.h5\n",
      "21/21 [==============================] - 64s 3s/step - loss: 0.5354 - categorical_accuracy: 0.7843 - val_loss: 1.8416 - val_categorical_accuracy: 0.3750\n",
      "Epoch 16/20\n",
      "21/21 [==============================] - ETA: 0s - loss: 0.4729 - categorical_accuracy: 0.8123\n",
      "Epoch 00016: saving model to model_init_2021-06-2602_22_50.878653/model-00016-0.47292-0.81232-4.33380-0.18750.h5\n",
      "21/21 [==============================] - 68s 3s/step - loss: 0.4729 - categorical_accuracy: 0.8123 - val_loss: 4.3338 - val_categorical_accuracy: 0.1875\n",
      "Epoch 17/20\n",
      "21/21 [==============================] - ETA: 0s - loss: 0.5090 - categorical_accuracy: 0.7843\n",
      "Epoch 00017: saving model to model_init_2021-06-2602_22_50.878653/model-00017-0.50895-0.78431-3.66432-0.18750.h5\n",
      "\n",
      "Epoch 00017: ReduceLROnPlateau reducing learning rate to 0.0024999999441206455.\n",
      "21/21 [==============================] - 62s 3s/step - loss: 0.5090 - categorical_accuracy: 0.7843 - val_loss: 3.6643 - val_categorical_accuracy: 0.1875\n",
      "Epoch 18/20\n",
      "21/21 [==============================] - ETA: 0s - loss: 0.4215 - categorical_accuracy: 0.8207\n",
      "Epoch 00018: saving model to model_init_2021-06-2602_22_50.878653/model-00018-0.42150-0.82073-2.31517-0.43750.h5\n",
      "21/21 [==============================] - 64s 3s/step - loss: 0.4215 - categorical_accuracy: 0.8207 - val_loss: 2.3152 - val_categorical_accuracy: 0.4375\n",
      "Epoch 19/20\n",
      "21/21 [==============================] - ETA: 0s - loss: 0.4085 - categorical_accuracy: 0.8207\n",
      "Epoch 00019: saving model to model_init_2021-06-2602_22_50.878653/model-00019-0.40855-0.82073-0.74314-0.68750.h5\n",
      "21/21 [==============================] - 64s 3s/step - loss: 0.4085 - categorical_accuracy: 0.8207 - val_loss: 0.7431 - val_categorical_accuracy: 0.6875\n",
      "Epoch 20/20\n",
      "21/21 [==============================] - ETA: 0s - loss: 0.3698 - categorical_accuracy: 0.8515"
     ]
    }
   ],
   "source": [
    "model.fit(train_generator, steps_per_epoch=steps_per_epoch, epochs=num_epochs, verbose=1, \n",
    "                    callbacks=callbacks_list, validation_data=val_generator, \n",
    "                    validation_steps=validation_steps, class_weight=None, workers=1, initial_epoch=0)"
   ]
  },
  {
   "cell_type": "code",
   "execution_count": null,
   "metadata": {
    "id": "flq3bjNSuyU-"
   },
   "outputs": [],
   "source": []
  }
 ],
 "metadata": {
  "accelerator": "GPU",
  "colab": {
   "collapsed_sections": [],
   "name": "Starter_Code_Gesture_Recognition-v128.ipynb",
   "provenance": [
    {
     "file_id": "1I195it8qCBWjfRAJnIyQOiHEd0DLAUv4",
     "timestamp": 1624470015526
    }
   ]
  },
  "kernelspec": {
   "display_name": "Python 3",
   "language": "python",
   "name": "python3"
  },
  "language_info": {
   "codemirror_mode": {
    "name": "ipython",
    "version": 3
   },
   "file_extension": ".py",
   "mimetype": "text/x-python",
   "name": "python",
   "nbconvert_exporter": "python",
   "pygments_lexer": "ipython3",
   "version": "3.6.9"
  }
 },
 "nbformat": 4,
 "nbformat_minor": 4
}
